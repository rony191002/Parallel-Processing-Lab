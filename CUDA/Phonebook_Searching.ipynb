%%writefile search_phonebook_multi.cu
#include <bits/stdc++.h>
#include <cuda.h>

using namespace std;

struct Contact {
  char name[50];
  char number[50];
};

__device__ bool check(char* str1, char* str2, int len) {
  for (int i = 0; str1[i] != '\0'; i++) {
    int j = 0;
    while (str1[i + j] != '\0' && str2[j] != '\0' && str1[i + j] == str2[j]) {
      j++;
    }
    if (j == len - 1) {
      return true;
    }
  }
  return false;
}

__global__ void searchPhonebook(Contact* phonebook, int num_contacts, char* search_name, int name_length, int* flags) {
  int idx = blockIdx.x * blockDim.x + threadIdx.x;
  if (idx < num_contacts) {
    if (check(phonebook[idx].name, search_name, name_length)) {
      flags[idx] = 1;
    } else {
      flags[idx] = 0;
    }
  }
}

int main(int argc, char* argv[]) {
  if (argc < 4) {
    cerr << "Usage: " << argv[0] << " <search_name> <num_threads> <file1> <file2> ..." << endl;
    return 1;
  }

  string search_name = argv[1];
  int num_threads = atoi(argv[2]);

  vector<Contact> phonebook;

  // Load multiple files
  for (int f = 3; f < argc; ++f) {
    ifstream file(argv[f]);
    if (!file.is_open()) {
      cerr << "Error opening file: " << argv[f] << endl;
      continue;
    }

    string line;
    while (getline(file, line)) {
      Contact contact;
      int pos = line.find(",");
      strcpy(contact.name, line.substr(1, pos - 2).c_str());
      strcpy(contact.number, line.substr(pos + 2, line.size() - pos - 4).c_str());
      phonebook.push_back(contact);
    }
    file.close();
  }

  int num_contacts = phonebook.size();
  if (num_contacts == 0) {
    cerr << "No contacts found!" << endl;
    return 1;
  }

  Contact* device_phonebook;
  char* device_search_name;
  int* device_flags;

  cudaMalloc(&device_phonebook, sizeof(Contact) * num_contacts);
  cudaMemcpy(device_phonebook, phonebook.data(), sizeof(Contact) * num_contacts, cudaMemcpyHostToDevice);

  cudaMalloc(&device_search_name, search_name.size() + 1);
  cudaMemcpy(device_search_name, search_name.c_str(), search_name.size() + 1, cudaMemcpyHostToDevice);

  cudaMalloc(&device_flags, sizeof(int) * num_contacts);

  int blocks = (num_contacts + num_threads - 1) / num_threads;

  auto start = chrono::high_resolution_clock::now();
  searchPhonebook<<<blocks, num_threads>>>(device_phonebook, num_contacts, device_search_name, search_name.length() + 1, device_flags);
  cudaDeviceSynchronize();
  auto end = chrono::high_resolution_clock::now();

  int* flags = new int[num_contacts];
  cudaMemcpy(flags, device_flags, sizeof(int) * num_contacts, cudaMemcpyDeviceToHost);

  set<pair<string, string>> results;
  for (int i = 0; i < num_contacts; ++i) {
    if (flags[i]) {
      results.insert({phonebook[i].name, phonebook[i].number});
    }
  }

  // Output result
  cout << "Matching Contacts (Sorted):" << endl;
  for (auto& entry : results) {
    cout << entry.first << " " << entry.second << endl;
  }

  chrono::duration<double> duration = end - start;
  cout << "Execution Time: " << duration.count() << " seconds" << endl;

  cudaFree(device_phonebook);
  cudaFree(device_search_name);
  cudaFree(device_flags);
  delete[] flags;

  return 0;
}
